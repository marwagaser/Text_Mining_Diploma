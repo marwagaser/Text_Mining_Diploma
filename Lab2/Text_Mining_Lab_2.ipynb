{
  "nbformat": 4,
  "nbformat_minor": 0,
  "metadata": {
    "colab": {
      "name": "Text Mining - Lab 2.ipynb",
      "provenance": [],
      "collapsed_sections": []
    },
    "kernelspec": {
      "name": "python3",
      "display_name": "Python 3"
    },
    "language_info": {
      "name": "python"
    }
  },
  "cells": [
    {
      "cell_type": "markdown",
      "source": [
        "# **Texting Mining - Lab 2 - TF-IDF**"
      ],
      "metadata": {
        "id": "x8kutnr6DUMl"
      }
    },
    {
      "cell_type": "markdown",
      "source": [
        "**TF(t)** = (Number of times term t appears in a document) / (Total number of terms in the document)."
      ],
      "metadata": {
        "id": "8zEChIc1G-V2"
      }
    },
    {
      "cell_type": "markdown",
      "source": [
        "**IDF(t)** = log_e(Total number of documents / Number of documents with term t in it).\n",
        "\n"
      ],
      "metadata": {
        "id": "2KqDx_7aHbFg"
      }
    },
    {
      "cell_type": "markdown",
      "source": [
        "A) Produce a dictionary of words and their occurence for each document.\n",
        "* Doc 1: The sky is blue\n",
        "* Doc 2: The sun is bright today\n",
        "* Doc 3: The sun in the sky is bright\n",
        "* Doc 4: We can see the shining sun the bright sun"
      ],
      "metadata": {
        "id": "DlUOnR5ADU25"
      }
    },
    {
      "cell_type": "code",
      "source": [
        "# Create documents\n",
        "document_1 = 'The sky is blue'\n",
        "document_2 = 'The sun is bright today'\n",
        "document_3 = 'The sun in the sky is bright'\n",
        "document_4 = 'We can see the shining sun the bright sun'\n",
        "\n",
        "# Convert to lower case and aggregate in a list\n",
        "documents = [document_1.lower(),document_2.lower(),document_3.lower(),document_4.lower()]\n",
        "\n",
        "# Get bag of words for every document\n",
        "bagOfWords = [doc.split(' ') for doc in documents]\n",
        "\n",
        "# Remove duplicates\n",
        "uniqueWords = [set(i) for i in bagOfWords]\n",
        "\n",
        "# Get union of all bag of words\n",
        "uniqueWords = set().union(*uniqueWords)\n",
        "\n",
        "# Dictionary of words and their occurence for each document \n",
        "dicOfWords = []\n",
        "for bag in bagOfWords:\n",
        "    numOfWords = dict.fromkeys(uniqueWords, 0)\n",
        "    for word in bag:\n",
        "        numOfWords[word] += 1\n",
        "    dicOfWords.append(numOfWords)"
      ],
      "metadata": {
        "id": "PZhVO7arCxGU"
      },
      "execution_count": 1,
      "outputs": []
    },
    {
      "cell_type": "markdown",
      "source": [
        "B) Produce the term frequency matrix for all documents"
      ],
      "metadata": {
        "id": "R18xspVSC6N8"
      }
    },
    {
      "cell_type": "code",
      "source": [
        "# The number of times a word appears in a document divded by the total number of words in the document. Every document has its own term frequency.\n",
        "def computeTF(wordDict, bagOfWords):\n",
        "    tfDict = {}\n",
        "    bagOfWordsCount = len(bagOfWords)\n",
        "    for word, count in wordDict.items():\n",
        "        tfDict[word] = count / float(bagOfWordsCount)\n",
        "    return tfDict\n",
        "tfs = [computeTF(dicOfWords[i], bagOfWords[i]) for i in range(0,len(documents))]"
      ],
      "metadata": {
        "id": "usevIxd-C7uY"
      },
      "execution_count": 2,
      "outputs": []
    },
    {
      "cell_type": "markdown",
      "source": [
        "C) Produce the inverse document frequency for all documents."
      ],
      "metadata": {
        "id": "oB1J-epBUtHI"
      }
    },
    {
      "cell_type": "code",
      "source": [
        "# The log of the number of documents divided by the number of documents that contain the word w. \n",
        "# Inverse data frequency determines the weight of rare words across all documents in the corpus.\n",
        "def computeIDF(documents):\n",
        "    import math\n",
        "    N = len(documents)\n",
        "    \n",
        "    idfDict = dict.fromkeys(uniqueWords, 0)\n",
        "    for document in documents:\n",
        "        for word, val in document.items():\n",
        "            if val > 0:\n",
        "                idfDict[word] += 1\n",
        "    \n",
        "    for word, val in idfDict.items():\n",
        "        idfDict[word] = math.log(N / float(val),10)\n",
        "    return idfDict\n",
        "idfs = computeIDF(dicOfWords)"
      ],
      "metadata": {
        "id": "xCWPsABvU_KT"
      },
      "execution_count": 3,
      "outputs": []
    },
    {
      "cell_type": "markdown",
      "source": [
        "D) Produce the **TF-IDF** by multiplying the **term frequency matrix** by the **inverse document frequency**"
      ],
      "metadata": {
        "id": "HeU2AmACYFlv"
      }
    },
    {
      "cell_type": "code",
      "source": [
        "def computeTFIDF(tfBagOfWords, idfs):\n",
        "    tfidf = {}\n",
        "    for word, val in tfBagOfWords.items():\n",
        "        tfidf[word] = val * idfs[word]\n",
        "    print(type(tfidf))\n",
        "    return tfidf\n",
        "tfidfs = [computeTFIDF(tf, idfs) for tf in tfs]\n",
        "tfidfs"
      ],
      "metadata": {
        "colab": {
          "base_uri": "https://localhost:8080/"
        },
        "id": "OsCqkb6aVJny",
        "outputId": "68c8759d-5ba6-4a9f-9778-c00ac61539a5"
      },
      "execution_count": 4,
      "outputs": [
        {
          "output_type": "stream",
          "name": "stdout",
          "text": [
            "<class 'dict'>\n",
            "<class 'dict'>\n",
            "<class 'dict'>\n",
            "<class 'dict'>\n"
          ]
        },
        {
          "output_type": "execute_result",
          "data": {
            "text/plain": [
              "[{'blue': 0.15051499783199057,\n",
              "  'bright': 0.0,\n",
              "  'can': 0.0,\n",
              "  'in': 0.0,\n",
              "  'is': 0.031234684152074976,\n",
              "  'see': 0.0,\n",
              "  'shining': 0.0,\n",
              "  'sky': 0.07525749891599529,\n",
              "  'sun': 0.0,\n",
              "  'the': 0.0,\n",
              "  'today': 0.0,\n",
              "  'we': 0.0},\n",
              " {'blue': 0.0,\n",
              "  'bright': 0.02498774732165998,\n",
              "  'can': 0.0,\n",
              "  'in': 0.0,\n",
              "  'is': 0.02498774732165998,\n",
              "  'see': 0.0,\n",
              "  'shining': 0.0,\n",
              "  'sky': 0.0,\n",
              "  'sun': 0.02498774732165998,\n",
              "  'the': 0.0,\n",
              "  'today': 0.12041199826559246,\n",
              "  'we': 0.0},\n",
              " {'blue': 0.0,\n",
              "  'bright': 0.017848390944042843,\n",
              "  'can': 0.0,\n",
              "  'in': 0.0860085701897089,\n",
              "  'is': 0.017848390944042843,\n",
              "  'see': 0.0,\n",
              "  'shining': 0.0,\n",
              "  'sky': 0.04300428509485445,\n",
              "  'sun': 0.017848390944042843,\n",
              "  'the': 0.0,\n",
              "  'today': 0.0,\n",
              "  'we': 0.0},\n",
              " {'blue': 0.0,\n",
              "  'bright': 0.013882081845366656,\n",
              "  'can': 0.06689555459199581,\n",
              "  'in': 0.0,\n",
              "  'is': 0.0,\n",
              "  'see': 0.06689555459199581,\n",
              "  'shining': 0.06689555459199581,\n",
              "  'sky': 0.0,\n",
              "  'sun': 0.027764163690733312,\n",
              "  'the': 0.0,\n",
              "  'today': 0.0,\n",
              "  'we': 0.06689555459199581}]"
            ]
          },
          "metadata": {},
          "execution_count": 4
        }
      ]
    },
    {
      "cell_type": "markdown",
      "source": [
        "---\n",
        "**Exercise 3-2:** TF-IDF Construction from sklearn"
      ],
      "metadata": {
        "id": "rP_B2QWmaJ7k"
      }
    },
    {
      "cell_type": "markdown",
      "source": [
        "A) Build the term frequency document matrix for the previous documents using <a href=\"https://scikit-learn.org/stable/modules/generated/sklearn.feature_extraction.text.CountVectorizer.html\">CountVectorizer</a>\n",
        " from sklearn\n",
        "\n",
        "1. Print the **sorted vocabulary** of the fitted documents and the id corresponding to the the word _\"sky\"_\n",
        "2. Print the **term frequency matrix** of the transformed documents\n",
        "3. Transform the sentence \"The moon is bright today\" using the same vectorizer\n",
        "4. Check if the word \"moon\" appears in the original vocabulary"
      ],
      "metadata": {
        "id": "OoCAP-GvaT2V"
      }
    },
    {
      "cell_type": "markdown",
      "source": [
        "* Doc 1: The sky is blue\n",
        "* Doc 2: The sun is bright today\n",
        "* Doc 3: The sun in the sky is bright\n",
        "* Doc 4: We can see the shining sun the bright sun"
      ],
      "metadata": {
        "id": "nwOcrZvfw-rN"
      }
    },
    {
      "cell_type": "code",
      "source": [
        "from sklearn.feature_extraction.text import CountVectorizer\n",
        "vectorizer = CountVectorizer()\n",
        "vectors = vectorizer.fit(documents)#learn vocabulary\n",
        "print(vectors.vocabulary_.items())"
      ],
      "metadata": {
        "colab": {
          "base_uri": "https://localhost:8080/"
        },
        "id": "xXsef-tMaSr5",
        "outputId": "49c3db4d-c666-447a-d53a-18dbcae78818"
      },
      "execution_count": 5,
      "outputs": [
        {
          "output_type": "stream",
          "name": "stdout",
          "text": [
            "dict_items([('the', 9), ('sky', 7), ('is', 4), ('blue', 0), ('sun', 8), ('bright', 1), ('today', 10), ('in', 3), ('we', 11), ('can', 2), ('see', 5), ('shining', 6)])\n"
          ]
        }
      ]
    },
    {
      "cell_type": "code",
      "source": [
        "print(sorted(vectors.vocabulary_.items(), key=lambda x: x[1])) "
      ],
      "metadata": {
        "colab": {
          "base_uri": "https://localhost:8080/"
        },
        "id": "xWEEsOqcbAgK",
        "outputId": "dc7ccc2f-92bf-436a-a23e-d21e46ad3746"
      },
      "execution_count": 6,
      "outputs": [
        {
          "output_type": "stream",
          "name": "stdout",
          "text": [
            "[('blue', 0), ('bright', 1), ('can', 2), ('in', 3), ('is', 4), ('see', 5), ('shining', 6), ('sky', 7), ('sun', 8), ('the', 9), ('today', 10), ('we', 11)]\n"
          ]
        }
      ]
    },
    {
      "cell_type": "code",
      "source": [
        "transformed_documents = vectors.transform(documents)#transform into document term freq\n",
        "print(transformed_documents.toarray())"
      ],
      "metadata": {
        "colab": {
          "base_uri": "https://localhost:8080/"
        },
        "id": "apnafkd3bVGR",
        "outputId": "4dfbbef6-b9b5-430a-d89a-74615d95c42b"
      },
      "execution_count": 7,
      "outputs": [
        {
          "output_type": "stream",
          "name": "stdout",
          "text": [
            "[[1 0 0 0 1 0 0 1 0 1 0 0]\n",
            " [0 1 0 0 1 0 0 0 1 1 1 0]\n",
            " [0 1 0 1 1 0 0 1 1 2 0 0]\n",
            " [0 1 1 0 0 1 1 0 2 2 0 1]]\n"
          ]
        }
      ]
    },
    {
      "cell_type": "code",
      "source": [
        "documents"
      ],
      "metadata": {
        "colab": {
          "base_uri": "https://localhost:8080/"
        },
        "id": "yJOD4D7Lcgt1",
        "outputId": "6d2a2c57-6a82-4595-8579-80788236861a"
      },
      "execution_count": 8,
      "outputs": [
        {
          "output_type": "execute_result",
          "data": {
            "text/plain": [
              "['the sky is blue',\n",
              " 'the sun is bright today',\n",
              " 'the sun in the sky is bright',\n",
              " 'we can see the shining sun the bright sun']"
            ]
          },
          "metadata": {},
          "execution_count": 8
        }
      ]
    },
    {
      "cell_type": "code",
      "source": [
        "sentence = ['The moon is bright today']\n",
        "print(vectors.transform(sentence).toarray())"
      ],
      "metadata": {
        "colab": {
          "base_uri": "https://localhost:8080/"
        },
        "id": "3_4ko22icLO9",
        "outputId": "64be2538-2ec5-48c0-e40e-12bb701adcd0"
      },
      "execution_count": 9,
      "outputs": [
        {
          "output_type": "stream",
          "name": "stdout",
          "text": [
            "[[0 1 0 0 1 0 0 0 0 1 1 0]]\n"
          ]
        }
      ]
    },
    {
      "cell_type": "code",
      "source": [
        "print('moon' in vectors.vocabulary_)"
      ],
      "metadata": {
        "colab": {
          "base_uri": "https://localhost:8080/"
        },
        "id": "arIeUpSTcWtU",
        "outputId": "e2ac87e9-8b43-42da-b721-9fdd79de97b9"
      },
      "execution_count": 10,
      "outputs": [
        {
          "output_type": "stream",
          "name": "stdout",
          "text": [
            "False\n"
          ]
        }
      ]
    },
    {
      "cell_type": "markdown",
      "source": [
        "B) Build the tf-idf document matrix for the previous documents using <a href=\"https://scikit-learn.org/stable/modules/generated/sklearn.feature_extraction.text.TfidfVectorizer.html\">TfIdfVectorizer</a> from sklearn\n",
        "1. Print the **sorted vocabulary** of the fitted documents\n",
        "2. Print the tf-idf matrix"
      ],
      "metadata": {
        "id": "2MxFu1r1ddzx"
      }
    },
    {
      "cell_type": "code",
      "source": [
        "from sklearn.feature_extraction.text import TfidfVectorizer\n",
        "vv = TfidfVectorizer(norm = None)\n",
        "tfidf = vv.fit_transform(documents)\n",
        "print(sorted(vv.vocabulary_.items(), key=lambda x : x[1]))"
      ],
      "metadata": {
        "colab": {
          "base_uri": "https://localhost:8080/"
        },
        "id": "wpydmZ-TdeGZ",
        "outputId": "0a17b53b-38af-4698-a041-85b2ea2115cc"
      },
      "execution_count": 11,
      "outputs": [
        {
          "output_type": "stream",
          "name": "stdout",
          "text": [
            "[('blue', 0), ('bright', 1), ('can', 2), ('in', 3), ('is', 4), ('see', 5), ('shining', 6), ('sky', 7), ('sun', 8), ('the', 9), ('today', 10), ('we', 11)]\n"
          ]
        }
      ]
    },
    {
      "cell_type": "code",
      "source": [
        "tfidf.toarray()"
      ],
      "metadata": {
        "colab": {
          "base_uri": "https://localhost:8080/"
        },
        "id": "-dmFk1iKhpVX",
        "outputId": "265918ea-71d1-4d81-d57a-d4628224e6eb"
      },
      "execution_count": 12,
      "outputs": [
        {
          "output_type": "execute_result",
          "data": {
            "text/plain": [
              "array([[1.91629073, 0.        , 0.        , 0.        , 1.22314355,\n",
              "        0.        , 0.        , 1.51082562, 0.        , 1.        ,\n",
              "        0.        , 0.        ],\n",
              "       [0.        , 1.22314355, 0.        , 0.        , 1.22314355,\n",
              "        0.        , 0.        , 0.        , 1.22314355, 1.        ,\n",
              "        1.91629073, 0.        ],\n",
              "       [0.        , 1.22314355, 0.        , 1.91629073, 1.22314355,\n",
              "        0.        , 0.        , 1.51082562, 1.22314355, 2.        ,\n",
              "        0.        , 0.        ],\n",
              "       [0.        , 1.22314355, 1.91629073, 0.        , 0.        ,\n",
              "        1.91629073, 1.91629073, 0.        , 2.4462871 , 2.        ,\n",
              "        0.        , 1.91629073]])"
            ]
          },
          "metadata": {},
          "execution_count": 12
        }
      ]
    },
    {
      "cell_type": "code",
      "source": [
        "for row in tfidf.toarray():\n",
        "    print([\"%.4f\"% val for val in row])"
      ],
      "metadata": {
        "colab": {
          "base_uri": "https://localhost:8080/"
        },
        "id": "XOzIKwG6hrtm",
        "outputId": "a3a578ff-23a4-412b-9ed3-8b5e53404cb9"
      },
      "execution_count": 13,
      "outputs": [
        {
          "output_type": "stream",
          "name": "stdout",
          "text": [
            "['1.9163', '0.0000', '0.0000', '0.0000', '1.2231', '0.0000', '0.0000', '1.5108', '0.0000', '1.0000', '0.0000', '0.0000']\n",
            "['0.0000', '1.2231', '0.0000', '0.0000', '1.2231', '0.0000', '0.0000', '0.0000', '1.2231', '1.0000', '1.9163', '0.0000']\n",
            "['0.0000', '1.2231', '0.0000', '1.9163', '1.2231', '0.0000', '0.0000', '1.5108', '1.2231', '2.0000', '0.0000', '0.0000']\n",
            "['0.0000', '1.2231', '1.9163', '0.0000', '0.0000', '1.9163', '1.9163', '0.0000', '2.4463', '2.0000', '0.0000', '1.9163']\n"
          ]
        }
      ]
    }
  ]
}