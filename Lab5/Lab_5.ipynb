{
  "nbformat": 4,
  "nbformat_minor": 0,
  "metadata": {
    "colab": {
      "name": "Lab 5.ipynb",
      "provenance": []
    },
    "kernelspec": {
      "name": "python3",
      "display_name": "Python 3",
      "language": "python"
    },
    "language_info": {
      "name": "python",
      "version": "3.8.10"
    }
  },
  "cells": [
    {
      "cell_type": "markdown",
      "metadata": {
        "id": "t4yYtenjjBQo"
      },
      "source": [
        "<h1 align=\"center\">Natural Language Processing and Information Retrieval</h1>"
      ]
    },
    {
      "cell_type": "markdown",
      "metadata": {
        "id": "us_0q0CRjEGj"
      },
      "source": [
        "<h2 align=\"center\">Lab Assignment 5</h2>"
      ]
    },
    {
      "cell_type": "markdown",
      "metadata": {
        "id": "ay3qYqysjGut"
      },
      "source": [
        "<h3 align=\"center\">Discussion: 24.04.2021 - 06.05.2021</h3>"
      ]
    },
    {
      "cell_type": "markdown",
      "metadata": {
        "id": "FI97VWVqntsm"
      },
      "source": [
        "--\n",
        "** Exercise 5-1:** Building a Basic Language Model (TO DO ALONE)\n",
        "\n",
        "Get the first sentence of the Reuters corpus using the NLTK package and print its bigrams and trigamrs. Reuters corpus is a collection of 10,788 news documents totaling 1.3 million words."
      ]
    },
    {
      "cell_type": "code",
      "metadata": {
        "id": "sPiV-TrUngsB"
      },
      "source": [
        "\n",
        "from nltk.corpus import reuters\n",
        "from nltk import bigrams, trigrams\n",
        "from collections import Counter, defaultdict\n",
        "first_sentence = reuters.sents()[0]\n",
        "#print first_sentence # [u'ASIAN', u'EXPORTERS', u'FEAR', u'DAMAGE', u'FROM' ...\n",
        " \n",
        "# Get the bigrams\n",
        "print(list(bigrams(first_sentence))) # [(u'ASIAN', u'EXPORTERS'), (u'EXPORTERS', u'FEAR'), (u'FEAR', u'DAMAGE'), (u'DAMAGE', u'FROM'), ...\n",
        " \n",
        "# Get the padded bigrams\n",
        "print(list(bigrams(first_sentence, pad_left=True, pad_right=True))) # [(None, u'ASIAN'), (u'ASIAN', u'EXPORTERS'), (u'EXPORTERS', u'FEAR'), (u'FEAR', u'DAMAGE'), (u'DAMAGE', u'FROM'),\n",
        " \n",
        "# Get the trigrams\n",
        "print(list(trigrams(first_sentence))) # [(u'ASIAN', u'EXPORTERS', u'FEAR'), (u'EXPORTERS', u'FEAR', u'DAMAGE'), (u'FEAR', u'DAMAGE', u'FROM'), ...\n",
        " \n",
        "# Get the padded trigrams\n",
        "print(list(trigrams(first_sentence, pad_left=True, pad_right=True))) # [(None, None, u'ASIAN'), (None, u'ASIAN'"
      ],
      "execution_count": 3,
      "outputs": [
        {
          "output_type": "stream",
          "name": "stdout",
          "text": [
            "[('ASIAN', 'EXPORTERS'), ('EXPORTERS', 'FEAR'), ('FEAR', 'DAMAGE'), ('DAMAGE', 'FROM'), ('FROM', 'U'), ('U', '.'), ('.', 'S'), ('S', '.-'), ('.-', 'JAPAN'), ('JAPAN', 'RIFT'), ('RIFT', 'Mounting'), ('Mounting', 'trade'), ('trade', 'friction'), ('friction', 'between'), ('between', 'the'), ('the', 'U'), ('U', '.'), ('.', 'S'), ('S', '.'), ('.', 'And'), ('And', 'Japan'), ('Japan', 'has'), ('has', 'raised'), ('raised', 'fears'), ('fears', 'among'), ('among', 'many'), ('many', 'of'), ('of', 'Asia'), ('Asia', \"'\"), (\"'\", 's'), ('s', 'exporting'), ('exporting', 'nations'), ('nations', 'that'), ('that', 'the'), ('the', 'row'), ('row', 'could'), ('could', 'inflict'), ('inflict', 'far'), ('far', '-'), ('-', 'reaching'), ('reaching', 'economic'), ('economic', 'damage'), ('damage', ','), (',', 'businessmen'), ('businessmen', 'and'), ('and', 'officials'), ('officials', 'said'), ('said', '.')]\n[(None, 'ASIAN'), ('ASIAN', 'EXPORTERS'), ('EXPORTERS', 'FEAR'), ('FEAR', 'DAMAGE'), ('DAMAGE', 'FROM'), ('FROM', 'U'), ('U', '.'), ('.', 'S'), ('S', '.-'), ('.-', 'JAPAN'), ('JAPAN', 'RIFT'), ('RIFT', 'Mounting'), ('Mounting', 'trade'), ('trade', 'friction'), ('friction', 'between'), ('between', 'the'), ('the', 'U'), ('U', '.'), ('.', 'S'), ('S', '.'), ('.', 'And'), ('And', 'Japan'), ('Japan', 'has'), ('has', 'raised'), ('raised', 'fears'), ('fears', 'among'), ('among', 'many'), ('many', 'of'), ('of', 'Asia'), ('Asia', \"'\"), (\"'\", 's'), ('s', 'exporting'), ('exporting', 'nations'), ('nations', 'that'), ('that', 'the'), ('the', 'row'), ('row', 'could'), ('could', 'inflict'), ('inflict', 'far'), ('far', '-'), ('-', 'reaching'), ('reaching', 'economic'), ('economic', 'damage'), ('damage', ','), (',', 'businessmen'), ('businessmen', 'and'), ('and', 'officials'), ('officials', 'said'), ('said', '.'), ('.', None)]\n[('ASIAN', 'EXPORTERS', 'FEAR'), ('EXPORTERS', 'FEAR', 'DAMAGE'), ('FEAR', 'DAMAGE', 'FROM'), ('DAMAGE', 'FROM', 'U'), ('FROM', 'U', '.'), ('U', '.', 'S'), ('.', 'S', '.-'), ('S', '.-', 'JAPAN'), ('.-', 'JAPAN', 'RIFT'), ('JAPAN', 'RIFT', 'Mounting'), ('RIFT', 'Mounting', 'trade'), ('Mounting', 'trade', 'friction'), ('trade', 'friction', 'between'), ('friction', 'between', 'the'), ('between', 'the', 'U'), ('the', 'U', '.'), ('U', '.', 'S'), ('.', 'S', '.'), ('S', '.', 'And'), ('.', 'And', 'Japan'), ('And', 'Japan', 'has'), ('Japan', 'has', 'raised'), ('has', 'raised', 'fears'), ('raised', 'fears', 'among'), ('fears', 'among', 'many'), ('among', 'many', 'of'), ('many', 'of', 'Asia'), ('of', 'Asia', \"'\"), ('Asia', \"'\", 's'), (\"'\", 's', 'exporting'), ('s', 'exporting', 'nations'), ('exporting', 'nations', 'that'), ('nations', 'that', 'the'), ('that', 'the', 'row'), ('the', 'row', 'could'), ('row', 'could', 'inflict'), ('could', 'inflict', 'far'), ('inflict', 'far', '-'), ('far', '-', 'reaching'), ('-', 'reaching', 'economic'), ('reaching', 'economic', 'damage'), ('economic', 'damage', ','), ('damage', ',', 'businessmen'), (',', 'businessmen', 'and'), ('businessmen', 'and', 'officials'), ('and', 'officials', 'said'), ('officials', 'said', '.')]\n[(None, None, 'ASIAN'), (None, 'ASIAN', 'EXPORTERS'), ('ASIAN', 'EXPORTERS', 'FEAR'), ('EXPORTERS', 'FEAR', 'DAMAGE'), ('FEAR', 'DAMAGE', 'FROM'), ('DAMAGE', 'FROM', 'U'), ('FROM', 'U', '.'), ('U', '.', 'S'), ('.', 'S', '.-'), ('S', '.-', 'JAPAN'), ('.-', 'JAPAN', 'RIFT'), ('JAPAN', 'RIFT', 'Mounting'), ('RIFT', 'Mounting', 'trade'), ('Mounting', 'trade', 'friction'), ('trade', 'friction', 'between'), ('friction', 'between', 'the'), ('between', 'the', 'U'), ('the', 'U', '.'), ('U', '.', 'S'), ('.', 'S', '.'), ('S', '.', 'And'), ('.', 'And', 'Japan'), ('And', 'Japan', 'has'), ('Japan', 'has', 'raised'), ('has', 'raised', 'fears'), ('raised', 'fears', 'among'), ('fears', 'among', 'many'), ('among', 'many', 'of'), ('many', 'of', 'Asia'), ('of', 'Asia', \"'\"), ('Asia', \"'\", 's'), (\"'\", 's', 'exporting'), ('s', 'exporting', 'nations'), ('exporting', 'nations', 'that'), ('nations', 'that', 'the'), ('that', 'the', 'row'), ('the', 'row', 'could'), ('row', 'could', 'inflict'), ('could', 'inflict', 'far'), ('inflict', 'far', '-'), ('far', '-', 'reaching'), ('-', 'reaching', 'economic'), ('reaching', 'economic', 'damage'), ('economic', 'damage', ','), ('damage', ',', 'businessmen'), (',', 'businessmen', 'and'), ('businessmen', 'and', 'officials'), ('and', 'officials', 'said'), ('officials', 'said', '.'), ('said', '.', None), ('.', None, None)]\n"
          ]
        }
      ]
    },
    {
      "cell_type": "markdown",
      "metadata": {
        "id": "KbzSK5c1nmUN"
      },
      "source": [
        "--\n",
        "**Exercise 5-2:** Building a Basic Language Model\n",
        "\n",
        "A) Build a basic language model using trigrams of the Reuters corpus using the NLTK package."
      ]
    },
    {
      "cell_type": "code",
      "metadata": {
        "id": "uS0dtEC5jp9U"
      },
      "source": [
        "# code courtesy of https://nlpforhackers.io/language-models/\n",
        "from nltk.corpus import reuters\n",
        "from nltk import bigrams, trigrams\n",
        "from collections import Counter, defaultdict\n",
        "\n",
        "\n",
        "# Create a placeholder for model\n",
        "model = defaultdict(lambda: defaultdict(lambda: 0))\n",
        "\n",
        "# We first split our text into trigrams with the help of NLTK and then calculate the frequency in which each combination of the trigrams occurs in the dataset.\n",
        "# Count frequency of co-occurance  \n",
        "for sentence in reuters.sents():\n",
        "    for w1, w2, w3 in trigrams(sentence, pad_right=True, pad_left=True):\n",
        "        model[(w1, w2)][w3] += 1\n",
        "        \n",
        "#We then use it to calculate probabilities of a word, given the previous two words\n",
        "# Let's transform the counts to probabilities\n",
        "for w1_w2 in model:\n",
        "    total_count = float(sum(model[w1_w2].values()))\n",
        "    for w3 in model[w1_w2]:\n",
        "        model[w1_w2][w3] /= total_count"
      ],
      "execution_count": 4,
      "outputs": []
    },
    {
      "cell_type": "code",
      "metadata": {
        "colab": {
          "base_uri": "https://localhost:8080/"
        },
        "id": "wxmXN2u6oV-9",
        "outputId": "12b4ba3c-4c4b-4549-8e41-70092e75927a"
      },
      "source": [
        "#predict the next word\n",
        "dict(model[\"today\",\"the\"])"
      ],
      "execution_count": 5,
      "outputs": [
        {
          "output_type": "execute_result",
          "data": {
            "text/plain": [
              "{'public': 0.05555555555555555,\n",
              " 'European': 0.05555555555555555,\n",
              " 'Bank': 0.05555555555555555,\n",
              " 'price': 0.1111111111111111,\n",
              " 'emirate': 0.05555555555555555,\n",
              " 'overseas': 0.05555555555555555,\n",
              " 'newspaper': 0.05555555555555555,\n",
              " 'company': 0.16666666666666666,\n",
              " 'Turkish': 0.05555555555555555,\n",
              " 'increase': 0.05555555555555555,\n",
              " 'options': 0.05555555555555555,\n",
              " 'Higher': 0.05555555555555555,\n",
              " 'pound': 0.05555555555555555,\n",
              " 'Italian': 0.05555555555555555,\n",
              " 'time': 0.05555555555555555}"
            ]
          },
          "metadata": {},
          "execution_count": 5
        }
      ]
    },
    {
      "cell_type": "code",
      "metadata": {
        "id": "DmYW5L8WqNRy"
      },
      "source": [
        "dict(model[\"the\",\"price\"])"
      ],
      "execution_count": 6,
      "outputs": [
        {
          "output_type": "execute_result",
          "data": {
            "text/plain": [
              "{'yesterday': 0.004651162790697674,\n",
              " 'of': 0.3209302325581395,\n",
              " 'it': 0.05581395348837209,\n",
              " 'effect': 0.004651162790697674,\n",
              " 'cut': 0.009302325581395349,\n",
              " 'for': 0.05116279069767442,\n",
              " 'paid': 0.013953488372093023,\n",
              " 'to': 0.05581395348837209,\n",
              " 'increases': 0.013953488372093023,\n",
              " 'used': 0.004651162790697674,\n",
              " 'climate': 0.004651162790697674,\n",
              " '.': 0.023255813953488372,\n",
              " 'cuts': 0.009302325581395349,\n",
              " 'reductions': 0.004651162790697674,\n",
              " 'limit': 0.004651162790697674,\n",
              " 'now': 0.004651162790697674,\n",
              " 'moved': 0.004651162790697674,\n",
              " 'per': 0.013953488372093023,\n",
              " 'adjustments': 0.004651162790697674,\n",
              " '(': 0.009302325581395349,\n",
              " 'slumped': 0.004651162790697674,\n",
              " 'is': 0.018604651162790697,\n",
              " 'move': 0.004651162790697674,\n",
              " 'evolution': 0.004651162790697674,\n",
              " 'differentials': 0.009302325581395349,\n",
              " 'went': 0.004651162790697674,\n",
              " 'the': 0.013953488372093023,\n",
              " 'factor': 0.004651162790697674,\n",
              " 'Royal': 0.004651162790697674,\n",
              " ',': 0.018604651162790697,\n",
              " 'again': 0.004651162790697674,\n",
              " 'changes': 0.004651162790697674,\n",
              " 'holds': 0.004651162790697674,\n",
              " 'has': 0.009302325581395349,\n",
              " 'fall': 0.004651162790697674,\n",
              " '-': 0.004651162790697674,\n",
              " 'from': 0.004651162790697674,\n",
              " 'base': 0.004651162790697674,\n",
              " 'on': 0.004651162790697674,\n",
              " 'review': 0.004651162790697674,\n",
              " 'while': 0.004651162790697674,\n",
              " 'collapse': 0.004651162790697674,\n",
              " 'being': 0.004651162790697674,\n",
              " 'at': 0.023255813953488372,\n",
              " 'outlook': 0.004651162790697674,\n",
              " 'rises': 0.004651162790697674,\n",
              " 'drop': 0.004651162790697674,\n",
              " 'guaranteed': 0.004651162790697674,\n",
              " ',\"': 0.004651162790697674,\n",
              " 'stayed': 0.009302325581395349,\n",
              " 'structure': 0.004651162790697674,\n",
              " 'and': 0.004651162790697674,\n",
              " 'could': 0.004651162790697674,\n",
              " 'related': 0.004651162790697674,\n",
              " 'hike': 0.004651162790697674,\n",
              " 'we': 0.004651162790697674,\n",
              " 'adjustment': 0.023255813953488372,\n",
              " 'policy': 0.004651162790697674,\n",
              " 'was': 0.009302325581395349,\n",
              " 'revision': 0.004651162790697674,\n",
              " 'freeze': 0.009302325581395349,\n",
              " 'led': 0.004651162790697674,\n",
              " 'action': 0.004651162790697674,\n",
              " 'zone': 0.004651162790697674,\n",
              " 'slump': 0.004651162790697674,\n",
              " 'had': 0.004651162790697674,\n",
              " 'difference': 0.004651162790697674,\n",
              " 'in': 0.004651162790697674,\n",
              " 'raise': 0.004651162790697674,\n",
              " 'increase': 0.009302325581395349,\n",
              " 'will': 0.013953488372093023,\n",
              " 'support': 0.004651162790697674,\n",
              " 'gap': 0.004651162790697674,\n",
              " 'would': 0.009302325581395349,\n",
              " 'projected': 0.004651162790697674,\n",
              " 'approached': 0.004651162790697674,\n",
              " 'instability': 0.004651162790697674}"
            ]
          },
          "metadata": {},
          "execution_count": 6
        }
      ]
    },
    {
      "cell_type": "markdown",
      "metadata": {
        "id": "JvFzIk46xpJJ"
      },
      "source": [
        "B) keep following this process iteratively, soon have a coherent sentence! Here is a script to play around with generating a random piece of text using the n-gram model:"
      ]
    },
    {
      "cell_type": "code",
      "metadata": {
        "id": "PsB6szuHxgnX"
      },
      "source": [
        "import random\n",
        "\n",
        "# starting words\n",
        "text = [\"today\", \"the\"]\n",
        "sentence_finished = False\n",
        " \n",
        "while not sentence_finished:\n",
        "  # select a random probability threshold  \n",
        "  r = random.random()\n",
        "  accumulator = .0\n",
        "\n",
        "  for word in model[tuple(text[-2:])].keys():\n",
        "      accumulator += model[tuple(text[-2:])][word]\n",
        "      # select words that are above the probability threshold\n",
        "      if accumulator >= r:\n",
        "          # <- Update the probability with the conditional probability of the new word\n",
        "          text.append(word)\n",
        "          break\n",
        "\n",
        "  if text[-2:] == [None, None]:\n",
        "      sentence_finished = True\n",
        "\n",
        "print (' '.join([t for t in text if t]))"
      ],
      "execution_count": 7,
      "outputs": [
        {
          "output_type": "stream",
          "name": "stdout",
          "text": [
            "today the company .\n"
          ]
        }
      ]
    },
    {
      "cell_type": "markdown",
      "metadata": {
        "id": "qTZmsRT9qfO2"
      },
      "source": [
        "C) In the previous example update the probability with the conditional probability of the new word and print it (TO DO ALONE)"
      ]
    }
  ]
}