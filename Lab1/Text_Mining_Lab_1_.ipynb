{
  "nbformat": 4,
  "nbformat_minor": 0,
  "metadata": {
    "colab": {
      "name": "Text Mining - Lab 1 .ipynb",
      "provenance": [],
      "collapsed_sections": []
    },
    "kernelspec": {
      "name": "python3",
      "display_name": "Python 3"
    },
    "language_info": {
      "name": "python"
    }
  },
  "cells": [
    {
      "cell_type": "markdown",
      "source": [
        "# **Texting Mining - Lab 1 - Text Processing**"
      ],
      "metadata": {
        "id": "kE9VGm-NCb-A"
      }
    },
    {
      "cell_type": "markdown",
      "source": [
        "## Discussion: 12.03.2022"
      ],
      "metadata": {
        "id": "UMdiEo4lCnvY"
      }
    },
    {
      "cell_type": "markdown",
      "source": [
        "### **Exercise 1-1:** Python Basics"
      ],
      "metadata": {
        "id": "8uZgFQ8VCvCJ"
      }
    },
    {
      "cell_type": "markdown",
      "source": [
        "A) Write a python program that splits the following string **\"Hello There Sam\"** into a list and iterate over the list using 3 different methods.\n",
        "* List as an iterable\n",
        "* Using enumerate\n",
        "* Using range"
      ],
      "metadata": {
        "id": "KNH6Lf9EDbhY"
      }
    },
    {
      "cell_type": "code",
      "source": [
        "s = \"Hello There Sam\""
      ],
      "metadata": {
        "id": "vcF6DQZ2CmGb"
      },
      "execution_count": 1,
      "outputs": []
    },
    {
      "cell_type": "code",
      "execution_count": 2,
      "metadata": {
        "colab": {
          "base_uri": "https://localhost:8080/"
        },
        "id": "5aq0JhodBLNn",
        "outputId": "8e28f3b2-30fd-482d-cf47-4214b6a646b4"
      },
      "outputs": [
        {
          "output_type": "stream",
          "name": "stdout",
          "text": [
            "e\n"
          ]
        }
      ],
      "source": [
        "print(s[1])"
      ]
    },
    {
      "cell_type": "markdown",
      "source": [
        "As iterable:"
      ],
      "metadata": {
        "id": "-mkfCJ7bDnLh"
      }
    },
    {
      "cell_type": "code",
      "source": [
        "for elem in s:\n",
        "    print(elem)"
      ],
      "metadata": {
        "colab": {
          "base_uri": "https://localhost:8080/"
        },
        "id": "mo8z8CJnDiod",
        "outputId": "93d9803a-0c5d-414e-f954-de7a0946be71"
      },
      "execution_count": 3,
      "outputs": [
        {
          "output_type": "stream",
          "name": "stdout",
          "text": [
            "H\n",
            "e\n",
            "l\n",
            "l\n",
            "o\n",
            " \n",
            "T\n",
            "h\n",
            "e\n",
            "r\n",
            "e\n",
            " \n",
            "S\n",
            "a\n",
            "m\n"
          ]
        }
      ]
    },
    {
      "cell_type": "markdown",
      "source": [
        "Using enumerate:"
      ],
      "metadata": {
        "id": "koXHTdTBDqYd"
      }
    },
    {
      "cell_type": "code",
      "source": [
        "for i, val in enumerate(s):\n",
        "    print (i, \",\",val)"
      ],
      "metadata": {
        "colab": {
          "base_uri": "https://localhost:8080/"
        },
        "id": "QoDhtS4TDtwu",
        "outputId": "16a7562b-1049-492d-e11c-281590a2721b"
      },
      "execution_count": 4,
      "outputs": [
        {
          "output_type": "stream",
          "name": "stdout",
          "text": [
            "0 , H\n",
            "1 , e\n",
            "2 , l\n",
            "3 , l\n",
            "4 , o\n",
            "5 ,  \n",
            "6 , T\n",
            "7 , h\n",
            "8 , e\n",
            "9 , r\n",
            "10 , e\n",
            "11 ,  \n",
            "12 , S\n",
            "13 , a\n",
            "14 , m\n"
          ]
        }
      ]
    },
    {
      "cell_type": "markdown",
      "source": [
        "Using range:"
      ],
      "metadata": {
        "id": "xaqBeBSbD2rW"
      }
    },
    {
      "cell_type": "code",
      "source": [
        "for i in range(0,len(s)):\n",
        "    print(s[i])"
      ],
      "metadata": {
        "colab": {
          "base_uri": "https://localhost:8080/"
        },
        "id": "o_og99wcDuT5",
        "outputId": "3a3a157b-8718-4df5-c95e-4597552bde35"
      },
      "execution_count": 5,
      "outputs": [
        {
          "output_type": "stream",
          "name": "stdout",
          "text": [
            "H\n",
            "e\n",
            "l\n",
            "l\n",
            "o\n",
            " \n",
            "T\n",
            "h\n",
            "e\n",
            "r\n",
            "e\n",
            " \n",
            "S\n",
            "a\n",
            "m\n"
          ]
        }
      ]
    },
    {
      "cell_type": "markdown",
      "source": [
        "B) Increment all the elements in the list **[5,7,9]** by 1 using the following 2 methods.\n",
        "* Using list comprehension\n",
        "* Using map\n",
        "* Using map + lambda"
      ],
      "metadata": {
        "id": "1z7ofg3-EX7U"
      }
    },
    {
      "cell_type": "code",
      "source": [
        "nums = [5,7,9]"
      ],
      "metadata": {
        "id": "-JUojrP4D1HM"
      },
      "execution_count": 6,
      "outputs": []
    },
    {
      "cell_type": "markdown",
      "source": [
        "Using list comprehension:"
      ],
      "metadata": {
        "id": "XYsLLwDHEfpM"
      }
    },
    {
      "cell_type": "code",
      "source": [
        "[i+1 for i in nums]"
      ],
      "metadata": {
        "colab": {
          "base_uri": "https://localhost:8080/"
        },
        "id": "o_yPJJ9lEbPJ",
        "outputId": "3a134478-e5cf-451b-ac86-33792b8b3db0"
      },
      "execution_count": 7,
      "outputs": [
        {
          "output_type": "execute_result",
          "data": {
            "text/plain": [
              "[6, 8, 10]"
            ]
          },
          "metadata": {},
          "execution_count": 7
        }
      ]
    },
    {
      "cell_type": "markdown",
      "source": [
        "Using map:"
      ],
      "metadata": {
        "id": "Wz5dfCloFL5S"
      }
    },
    {
      "cell_type": "code",
      "source": [
        "def addOne(n):\n",
        "    return n+1\n",
        "\n",
        "list(map(addOne,nums))"
      ],
      "metadata": {
        "colab": {
          "base_uri": "https://localhost:8080/"
        },
        "id": "yAZ735YvEj36",
        "outputId": "bbd4ff02-0164-40b6-ebe8-b4fd4a6eb57e"
      },
      "execution_count": 8,
      "outputs": [
        {
          "output_type": "execute_result",
          "data": {
            "text/plain": [
              "[6, 8, 10]"
            ]
          },
          "metadata": {},
          "execution_count": 8
        }
      ]
    },
    {
      "cell_type": "markdown",
      "source": [
        "Using map+lambda:"
      ],
      "metadata": {
        "id": "AVzOsM7FFPQq"
      }
    },
    {
      "cell_type": "code",
      "source": [
        "list(map(lambda x:x+1,nums))"
      ],
      "metadata": {
        "colab": {
          "base_uri": "https://localhost:8080/"
        },
        "id": "G1WmKWOME88q",
        "outputId": "d269735e-df4d-494b-950f-80430d907190"
      },
      "execution_count": 9,
      "outputs": [
        {
          "output_type": "execute_result",
          "data": {
            "text/plain": [
              "[6, 8, 10]"
            ]
          },
          "metadata": {},
          "execution_count": 9
        }
      ]
    },
    {
      "cell_type": "markdown",
      "source": [
        "\n",
        "### **Exercise 1-2:** Text preprocessing"
      ],
      "metadata": {
        "id": "5j7Q-9yXFY-c"
      }
    },
    {
      "cell_type": "markdown",
      "source": [
        "**I. Tokenization**"
      ],
      "metadata": {
        "id": "2pijDI0RHimv"
      }
    },
    {
      "cell_type": "markdown",
      "source": [
        "A) Split the following sentence into tokens: **“the quick brown fox, jumped over the lazy; dog”**\n",
        "* Using `.split()` method on spaces\n",
        "* Using NLTK's `word_tokenize`"
      ],
      "metadata": {
        "id": "NWTG_hiGFfSX"
      }
    },
    {
      "cell_type": "code",
      "source": [
        "# Your answer here\n",
        "from nltk.tokenize import word_tokenize"
      ],
      "metadata": {
        "id": "pZG4iN7eFHOJ"
      },
      "execution_count": 10,
      "outputs": []
    },
    {
      "cell_type": "markdown",
      "source": [
        "B) Convert the following sentence into tokens: **\"NLP Is Fun, Isn’t It ?\"** into lowercase\n",
        "* Without splitting\n",
        "* With splitting"
      ],
      "metadata": {
        "id": "NPKHdybOFpbQ"
      }
    },
    {
      "cell_type": "code",
      "source": [
        "# Your answer here"
      ],
      "metadata": {
        "id": "FxYuSylxFq28"
      },
      "execution_count": 11,
      "outputs": []
    },
    {
      "cell_type": "markdown",
      "source": [
        "**II. Stop Words**"
      ],
      "metadata": {
        "id": "ass6mZGNIuia"
      }
    },
    {
      "cell_type": "code",
      "source": [
        "import nltk\n",
        "nltk.download('stopwords')\n",
        "import string\n",
        "from nltk.corpus import stopwords\n"
      ],
      "metadata": {
        "colab": {
          "base_uri": "https://localhost:8080/"
        },
        "id": "meEYaFmWMHwL",
        "outputId": "3a8854f4-d015-42d0-c012-045c1c354861"
      },
      "execution_count": 12,
      "outputs": [
        {
          "output_type": "stream",
          "name": "stdout",
          "text": [
            "[nltk_data] Downloading package stopwords to /root/nltk_data...\n",
            "[nltk_data]   Package stopwords is already up-to-date!\n"
          ]
        }
      ]
    },
    {
      "cell_type": "code",
      "source": [
        "# this cell create a list of English stopwords which should be removed from our dataset/corpus\n",
        "english_stops = stopwords.words('english')\n",
        "#add punctuation to stopwords\n",
        "english_stops += list(string.punctuation)"
      ],
      "metadata": {
        "id": "ucbrq1ezIxBr"
      },
      "execution_count": 13,
      "outputs": []
    },
    {
      "cell_type": "markdown",
      "source": [
        "**III . Lemmatization and Stemming**"
      ],
      "metadata": {
        "id": "jtwgoqktYcci"
      }
    },
    {
      "cell_type": "markdown",
      "source": [
        "\n",
        "\n",
        "*  Both lemmatization and steming attempt to reach a shortened version of the word which represents its root\n",
        "*  However, stemming cuts word directly without considering the context and may not give you proper representation of the word.\n",
        "* Lemmatization considers context of the word before chopping it\n",
        "* Lemmatization generates meaningful words that are understandable by humans\n",
        "* However, lemmatization needs more  computational time compared to stemming\n",
        "* Stemming can be used in sentiment analysis and classifiers\n",
        "* Lemmatization is better for systems that involve direct human interaction like Q&A systems and chatbots"
      ],
      "metadata": {
        "id": "Z_7F6x6Ja75H"
      }
    },
    {
      "cell_type": "code",
      "source": [
        "#import tools needed for stemming\n",
        "import nltk\n",
        "from nltk.stem.porter import PorterStemmer\n",
        "porter_stemmer  = PorterStemmer()\n",
        "porter_stemmer.stem(\"studies\")\n"
      ],
      "metadata": {
        "id": "bupFWgEIYh59",
        "colab": {
          "base_uri": "https://localhost:8080/",
          "height": 35
        },
        "outputId": "0e4a8e51-4602-4f52-b6b6-4f00e1d7c8db"
      },
      "execution_count": 14,
      "outputs": [
        {
          "output_type": "execute_result",
          "data": {
            "application/vnd.google.colaboratory.intrinsic+json": {
              "type": "string"
            },
            "text/plain": [
              "'studi'"
            ]
          },
          "metadata": {},
          "execution_count": 14
        }
      ]
    },
    {
      "cell_type": "code",
      "source": [
        "#import tools needed for lemmatization\n",
        "nltk.download('wordnet')\n",
        "from nltk.stem import \tWordNetLemmatizer\n",
        "wordnet_lemmatizer = WordNetLemmatizer()\n",
        "wordnet_lemmatizer.lemmatize(\"studies\")"
      ],
      "metadata": {
        "colab": {
          "base_uri": "https://localhost:8080/",
          "height": 71
        },
        "id": "L6yhhdKYduap",
        "outputId": "399eb936-d360-4ffe-8250-38a5566cd4f3"
      },
      "execution_count": 15,
      "outputs": [
        {
          "output_type": "stream",
          "name": "stdout",
          "text": [
            "[nltk_data] Downloading package wordnet to /root/nltk_data...\n",
            "[nltk_data]   Unzipping corpora/wordnet.zip.\n"
          ]
        },
        {
          "output_type": "execute_result",
          "data": {
            "application/vnd.google.colaboratory.intrinsic+json": {
              "type": "string"
            },
            "text/plain": [
              "'study'"
            ]
          },
          "metadata": {},
          "execution_count": 15
        }
      ]
    },
    {
      "cell_type": "markdown",
      "source": [
        " **Bonus Task:\n",
        "Combine all the relevant text processing technique to process the text `sw_21`  and save the resulting text in a new file**"
      ],
      "metadata": {
        "id": "zzKpq2G4f20W"
      }
    },
    {
      "cell_type": "code",
      "source": [
        ""
      ],
      "metadata": {
        "id": "lxFQDVwcgpW5"
      },
      "execution_count": 15,
      "outputs": []
    },
    {
      "cell_type": "markdown",
      "source": [
        "\n",
        "### **Exercise 1-3:** Dictionaries and CSVs"
      ],
      "metadata": {
        "id": "HK37-6aJe80m"
      }
    },
    {
      "cell_type": "markdown",
      "source": [
        "A) Given the following nested dictionary **d = {'k1':[1,2,3],'tricky':['oh','man','inception'],'target':[1,2,3,'hello']}**\n",
        "* Print the word hello\n",
        "* Print all keys and all values\n",
        "* Print each key value pair by looping over the dictionary"
      ],
      "metadata": {
        "id": "HQ9D7r4AjsQm"
      }
    },
    {
      "cell_type": "code",
      "source": [
        "my_dictionary = {'k1':[1,2,3],'tricky':['oh','man','inception'],'target':[1,2,3,'hello']}\n",
        "print(my_dictionary['target'][3])\n",
        "print(my_dictionary.keys())\n",
        "print(my_dictionary.values())\n",
        "for i,j in my_dictionary.items():\n",
        "  print(i,j)"
      ],
      "metadata": {
        "colab": {
          "base_uri": "https://localhost:8080/"
        },
        "id": "1L0qEaFJjvz3",
        "outputId": "0b68b7dd-5144-488f-e59d-0076c16d5583"
      },
      "execution_count": 16,
      "outputs": [
        {
          "output_type": "stream",
          "name": "stdout",
          "text": [
            "hello\n",
            "dict_keys(['k1', 'tricky', 'target'])\n",
            "dict_values([[1, 2, 3], ['oh', 'man', 'inception'], [1, 2, 3, 'hello']])\n",
            "k1 [1, 2, 3]\n",
            "tricky ['oh', 'man', 'inception']\n",
            "target [1, 2, 3, 'hello']\n"
          ]
        }
      ]
    },
    {
      "cell_type": "markdown",
      "source": [
        "***defaultdict vs dict***"
      ],
      "metadata": {
        "id": "dluF8FGQmj3s"
      }
    },
    {
      "cell_type": "code",
      "source": [
        "\n",
        "#defaultdict:\n",
        "from collections import defaultdict\n",
        "\n",
        "my_dictionary_def = defaultdict(int)\n",
        "print(my_dictionary_def)\n",
        "my_dictionary_def['farouk']= my_dictionary_def['farouk']+1\n",
        "print(my_dictionary_def)"
      ],
      "metadata": {
        "colab": {
          "base_uri": "https://localhost:8080/"
        },
        "id": "dCKvZiRQfEM5",
        "outputId": "83716b5c-4c0d-4117-d878-7666a18b4f52"
      },
      "execution_count": 17,
      "outputs": [
        {
          "output_type": "stream",
          "name": "stdout",
          "text": [
            "defaultdict(<class 'int'>, {})\n",
            "defaultdict(<class 'int'>, {'farouk': 1})\n"
          ]
        }
      ]
    },
    {
      "cell_type": "code",
      "source": [
        "#dict\n",
        "dict_standard = dict()\n",
        "dict_standard['farouk']+=1"
      ],
      "metadata": {
        "colab": {
          "base_uri": "https://localhost:8080/",
          "height": 203
        },
        "id": "CwD6H3cameVM",
        "outputId": "2e5e49d4-01a4-4f88-c873-52de1557a838"
      },
      "execution_count": 18,
      "outputs": [
        {
          "output_type": "error",
          "ename": "KeyError",
          "evalue": "ignored",
          "traceback": [
            "\u001b[0;31m---------------------------------------------------------------------------\u001b[0m",
            "\u001b[0;31mKeyError\u001b[0m                                  Traceback (most recent call last)",
            "\u001b[0;32m<ipython-input-18-266d7fa70670>\u001b[0m in \u001b[0;36m<module>\u001b[0;34m()\u001b[0m\n\u001b[1;32m      1\u001b[0m \u001b[0;31m#dict\u001b[0m\u001b[0;34m\u001b[0m\u001b[0;34m\u001b[0m\u001b[0;34m\u001b[0m\u001b[0m\n\u001b[1;32m      2\u001b[0m \u001b[0mdict_standard\u001b[0m \u001b[0;34m=\u001b[0m \u001b[0mdict\u001b[0m\u001b[0;34m(\u001b[0m\u001b[0;34m)\u001b[0m\u001b[0;34m\u001b[0m\u001b[0;34m\u001b[0m\u001b[0m\n\u001b[0;32m----> 3\u001b[0;31m \u001b[0mdict_standard\u001b[0m\u001b[0;34m[\u001b[0m\u001b[0;34m'farouk'\u001b[0m\u001b[0;34m]\u001b[0m\u001b[0;34m+=\u001b[0m\u001b[0;36m1\u001b[0m\u001b[0;34m\u001b[0m\u001b[0;34m\u001b[0m\u001b[0m\n\u001b[0m",
            "\u001b[0;31mKeyError\u001b[0m: 'farouk'"
          ]
        }
      ]
    },
    {
      "cell_type": "markdown",
      "source": [
        "Return a list of the most common last names in **names.csv**\n",
        "* Read the files using *csv.reader()*\n",
        "* Using a *dict* or preferrably *default dict*, store the counts of names\n",
        "* Print the most common 10 names using *sorted* on the *values* of the dict"
      ],
      "metadata": {
        "id": "utb0c4s-sbMG"
      }
    },
    {
      "cell_type": "code",
      "source": [
        "import csv\n",
        "\n",
        "#your answer here"
      ],
      "metadata": {
        "id": "_8ApxC31moPH"
      },
      "execution_count": 19,
      "outputs": []
    },
    {
      "cell_type": "markdown",
      "source": [
        "\n",
        "### **Exercise 1-4:** Visualization\n",
        "\n",
        "Visualize the count of each of the top 10 names"
      ],
      "metadata": {
        "id": "3NvDHNMJft_7"
      }
    },
    {
      "cell_type": "code",
      "source": [
        "import matplotlib.pyplot as plt\n",
        "fig = plt.figure(figsize=(8, 6))\n",
        "ax = fig.add_axes([0,0,1,1])\n",
        "ax.set_ylabel('Counts')\n",
        "ax.set_xlabel('Names')\n",
        "# your answer here"
      ],
      "metadata": {
        "colab": {
          "base_uri": "https://localhost:8080/",
          "height": 515
        },
        "id": "p4H3eOx7o8iX",
        "outputId": "52af8028-b6f6-485a-f21f-22fe904aeb58"
      },
      "execution_count": 20,
      "outputs": [
        {
          "output_type": "execute_result",
          "data": {
            "text/plain": [
              "Text(0.5, 0, 'Names')"
            ]
          },
          "metadata": {},
          "execution_count": 20
        },
        {
          "output_type": "display_data",
          "data": {
            "image/png": "[encoded data removed]",
            "text/plain": [
              "<Figure size 576x432 with 1 Axes>"
            ]
          },
          "metadata": {
            "needs_background": "light"
          }
        }
      ]
    }
  ]
}